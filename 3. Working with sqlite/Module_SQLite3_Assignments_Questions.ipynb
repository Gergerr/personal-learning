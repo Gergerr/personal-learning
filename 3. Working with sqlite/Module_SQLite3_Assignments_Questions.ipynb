{
 "cells": [
  {
   "cell_type": "markdown",
   "id": "d421de95",
   "metadata": {},
   "source": [
    "# Module: SQLite3 Assignments\n",
    "## Lesson: SQLite3\n",
    "Name: Geraldo Enrico Semen\n",
    "\n",
    "This is an assignment from a course by Krish Naik on Udemy."
   ]
  },
  {
   "cell_type": "code",
   "execution_count": 2,
   "id": "ddc6fe8a",
   "metadata": {},
   "outputs": [],
   "source": [
    "import sqlite3"
   ]
  },
  {
   "cell_type": "markdown",
   "id": "1e8e99b7",
   "metadata": {},
   "source": [
    "### Assignment 1: Creating and Connecting to a Database\n",
    "\n",
    "1. Write a Python function to create a new SQLite3 database named `test.db`.\n",
    "2. Write a Python function to create a table named `employees` with columns `id` (integer), `name` (text), `age` (integer), and `department` (text) in the `test.db` database.\n"
   ]
  },
  {
   "cell_type": "code",
   "execution_count": 7,
   "id": "e17c7f08",
   "metadata": {},
   "outputs": [],
   "source": [
    "connection= sqlite3.connect('test.db')\n",
    "cursor= connection.cursor()\n",
    "cursor.execute('''\n",
    "               CREATE TABLE IF NOT EXISTS employees(\n",
    "                   id INTEGER PRIMARY KEY,\n",
    "                   name TEXT NOT NULL,\n",
    "                   age INTEGER,\n",
    "                   department TEXT NOT NULL\n",
    "               )\n",
    "               \n",
    "               ''')\n",
    "connection.commit()"
   ]
  },
  {
   "cell_type": "markdown",
   "id": "364399af",
   "metadata": {},
   "source": [
    "### Assignment 2: Inserting Data\n",
    "\n",
    "1. Write a Python function to insert a new employee into the `employees` table.\n",
    "2. Insert at least 5 different employees into the `employees` table.\n"
   ]
  },
  {
   "cell_type": "code",
   "execution_count": 10,
   "id": "98c50f73",
   "metadata": {},
   "outputs": [
    {
     "ename": "TypeError",
     "evalue": "new_employee() missing 1 required positional argument: 'self'",
     "output_type": "error",
     "traceback": [
      "\u001b[0;31m---------------------------------------------------------------------------\u001b[0m",
      "\u001b[0;31mTypeError\u001b[0m                                 Traceback (most recent call last)",
      "Cell \u001b[0;32mIn[10], line 24\u001b[0m\n\u001b[1;32m     22\u001b[0m     \u001b[38;5;28;01mexcept\u001b[39;00m sqlite3\u001b[38;5;241m.\u001b[39mError \u001b[38;5;28;01mas\u001b[39;00m e:\n\u001b[1;32m     23\u001b[0m         \u001b[38;5;28mprint\u001b[39m(\u001b[38;5;124m'\u001b[39m\u001b[38;5;124mError connecting to database\u001b[39m\u001b[38;5;124m'\u001b[39m)\n\u001b[0;32m---> 24\u001b[0m new_employee(\u001b[38;5;28mid\u001b[39m\u001b[38;5;241m=\u001b[39m \u001b[38;5;241m1\u001b[39m, name\u001b[38;5;241m=\u001b[39m \u001b[38;5;124m'\u001b[39m\u001b[38;5;124mGeraldo\u001b[39m\u001b[38;5;124m'\u001b[39m, age\u001b[38;5;241m=\u001b[39m \u001b[38;5;241m22\u001b[39m, department\u001b[38;5;241m=\u001b[39m \u001b[38;5;124m'\u001b[39m\u001b[38;5;124mAI Engineer\u001b[39m\u001b[38;5;124m'\u001b[39m)\n\u001b[1;32m     25\u001b[0m new_employee(\u001b[38;5;28mid\u001b[39m\u001b[38;5;241m=\u001b[39m \u001b[38;5;241m2\u001b[39m, name\u001b[38;5;241m=\u001b[39m \u001b[38;5;124m'\u001b[39m\u001b[38;5;124mCynthia\u001b[39m\u001b[38;5;124m'\u001b[39m, age\u001b[38;5;241m=\u001b[39m \u001b[38;5;241m22\u001b[39m, department\u001b[38;5;241m=\u001b[39m \u001b[38;5;124m'\u001b[39m\u001b[38;5;124mML Engineer\u001b[39m\u001b[38;5;124m'\u001b[39m)\n\u001b[1;32m     26\u001b[0m new_employee(\u001b[38;5;28mid\u001b[39m\u001b[38;5;241m=\u001b[39m \u001b[38;5;241m3\u001b[39m, name\u001b[38;5;241m=\u001b[39m \u001b[38;5;124m'\u001b[39m\u001b[38;5;124mGrynce\u001b[39m\u001b[38;5;124m'\u001b[39m, age\u001b[38;5;241m=\u001b[39m \u001b[38;5;241m22\u001b[39m, department\u001b[38;5;241m=\u001b[39m \u001b[38;5;124m'\u001b[39m\u001b[38;5;124mDevOps Engineer\u001b[39m\u001b[38;5;124m'\u001b[39m)\n",
      "\u001b[0;31mTypeError\u001b[0m: new_employee() missing 1 required positional argument: 'self'"
     ]
    }
   ],
   "source": [
    "def new_employee(self, id, name, age, department):\n",
    "    \"\"\"\n",
    "    Inserting data to the database\n",
    "    \n",
    "    \"\"\"\n",
    "    self.id= id\n",
    "    self.name= name\n",
    "    self.age= age\n",
    "    self.department= department\n",
    "    try:\n",
    "        connection= sqlite3.connect('test3.db')\n",
    "        cursor= connection.cursor()\n",
    "        print('Database connected')\n",
    "        \n",
    "        cursor.execute(f'''\n",
    "                        INSERT INTO employees(id, name, age, department)\n",
    "                        VALUES({self.id}, {self.name}, {self.age}, {self.department})\n",
    "                       )\n",
    "                       ''')\n",
    "        connection.commit()\n",
    "        print('Data Added Sucessfully')\n",
    "    except sqlite3.Error as e:\n",
    "        print('Error connecting to database')\n",
    "new_employee(id= 1, name= 'Geraldo', age= 22, department= 'AI Engineer')\n",
    "new_employee(id= 2, name= 'Cynthia', age= 22, department= 'ML Engineer')\n",
    "new_employee(id= 3, name= 'Grynce', age= 22, department= 'DevOps Engineer')\n",
    "new_employee(id= 4, name= 'Crynge', age= 22, department= 'Product Development')\n",
    "new_employee(id= 5, name= 'Gercyn', age= 22, department= 'Mboh lah')\n"
   ]
  },
  {
   "cell_type": "markdown",
   "id": "964cf61d",
   "metadata": {},
   "source": [
    "\n",
    "\n",
    "\n",
    "### Assignment 3: Querying Data\n",
    "\n",
    "1. Write a Python function to fetch and display all records from the `employees` table.\n",
    "2. Write a Python function to fetch and display all employees from a specific department.\n",
    "\n",
    "### Assignment 4: Updating Data\n",
    "\n",
    "1. Write a Python function to update the department of an employee based on their `id`.\n",
    "2. Update the department of at least 2 employees and display the updated records.\n",
    "\n",
    "### Assignment 5: Deleting Data\n",
    "\n",
    "1. Write a Python function to delete an employee from the `employees` table based on their `id`.\n",
    "2. Delete at least 1 employee and display the remaining records.\n",
    "\n",
    "### Assignment 6: Advanced Queries\n",
    "\n",
    "1. Write a Python function to fetch and display employees older than a certain age.\n",
    "2. Write a Python function to fetch and display employees whose names start with a specific letter.\n",
    "\n",
    "### Assignment 7: Handling Transactions\n",
    "\n",
    "1. Write a Python function to insert multiple employees into the `employees` table in a single transaction. Ensure that if any insertion fails, none of the insertions are committed.\n",
    "2. Write a Python function to update the age of multiple employees in a single transaction. Ensure that if any update fails, none of the updates are committed.\n",
    "\n",
    "### Assignment 8: Creating Relationships\n",
    "\n",
    "1. Create a new table named `departments` with columns `id` (integer) and `name` (text).\n",
    "2. Modify the `employees` table to include a foreign key referencing the `id` column in the `departments` table.\n",
    "3. Write a Python function to insert data into both the `departments` and `employees` tables, ensuring referential integrity.\n",
    "\n",
    "### Assignment 9: Indexing and Optimization\n",
    "\n",
    "1. Create an index on the `name` column of the `employees` table.\n",
    "2. Write a Python function to fetch and display all employees whose names start with a specific letter. Compare the performance with and without the index.\n",
    "\n",
    "### Assignment 10: Backing Up and Restoring Data\n",
    "\n",
    "1. Write a Python function to back up the `test.db` database to a file named `backup.db`.\n",
    "2. Write a Python function to restore the `test.db` database from the `backup.db` file."
   ]
  },
  {
   "cell_type": "code",
   "execution_count": null,
   "metadata": {},
   "outputs": [],
   "source": []
  }
 ],
 "metadata": {
  "kernelspec": {
   "display_name": "data-science-with-ml-and-nlp",
   "language": "python",
   "name": "python3"
  },
  "language_info": {
   "codemirror_mode": {
    "name": "ipython",
    "version": 3
   },
   "file_extension": ".py",
   "mimetype": "text/x-python",
   "name": "python",
   "nbconvert_exporter": "python",
   "pygments_lexer": "ipython3",
   "version": "3.12.7"
  }
 },
 "nbformat": 4,
 "nbformat_minor": 5
}
